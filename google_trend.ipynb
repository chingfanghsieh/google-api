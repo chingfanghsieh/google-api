{
 "cells": [
  {
   "cell_type": "code",
   "execution_count": null,
   "metadata": {},
   "outputs": [],
   "source": [
    "from pytrends.request import TrendReq\n",
    "import matplotlib.pyplot as plt\n",
    "from matplotlib.font_manager import FontProperties\n",
    "import pandas as pd\n",
    "import matplotlib.ticker\n",
    "\n",
    "kw_list = [] \n",
    "pytrend = TrendReq(hl='zh-TW', tz=1200)\n",
    "num = int(input(print(\"請輸入要查幾個關鍵字(最多5個)\")))\n",
    "for i in range (num):\n",
    "    keywords = str(input(print(\"請輸入關鍵字\")))\n",
    "    kw_list.append(keywords)\n",
    "print(kw_list)\n",
    "\n",
    "time_mode = int(input(print(\"請輸入希望的時間區間：\\n -特定日期範圍輸入1\\n -幾個月內輸入2\\n -幾天內輸入3\\n -五年內請輸入4\\n請輸入:\")))\n",
    "if time_mode == 1:\n",
    "    time_want = str(input(\"輸入格式範例 2021-01-01 2021-01-31\\n請輸入:\"))\n",
    "elif time_mode == 2:\n",
    "    time_input = str(input(\"只能搜尋1,2,3個月內\\n請輸入:\"))\n",
    "    time_want = 'today ' + str(time_input) + '-m'\n",
    "elif time_mode == 3:\n",
    "    time_input = str(input(\"只能搜尋1,7天內\\n請輸入:\"))\n",
    "    time_want = 'now ' + str(time_input) + '-d'\n",
    "elif time_mode == 4:\n",
    "    time_want = str(\"today 5-y\")\n",
    "else :\n",
    "    print(\"錯誤，請重來！\")\n",
    "\n",
    "print(time_want)\n",
    "pytrend.build_payload(kw_list=kw_list, cat=0, timeframe= time_want, geo='TW', gprop='' )\n",
    "trends = pytrend.interest_over_time()\n",
    "\n",
    "if all(trends.isPartial == False):\n",
    "    del trends['isPartial']\n",
    "\n",
    "font = FontProperties(fname=\"NotoSansCJKtc-Medium.otf\")\n",
    "def plot_trends(df):\n",
    "    fig = plt.figure(figsize = (15,8))\n",
    "    ax = fig.add_subplot(111)\n",
    "    df.plot(ax=ax)\n",
    "    ax.legend(prop=font)\n",
    "    #plt.rc('legend', fontproperties=font, fontsize=16)\n",
    "    plt.ylabel(\"相對強度\", fontproperties=font, fontsize=14)\n",
    "    plt.xlabel(\"日期\", fontproperties=font, fontsize=14)\n",
    "    plt.title('Google Trend 關鍵字搜尋強度比較圖',fontproperties=font, fontsize=16)\n",
    "    plt.ylim((0,100))\n",
    "    #plt.legend(loc='lower left')\n",
    "    plt.legend(loc='lower left',prop=font)\n",
    "    #plt.legend(prop={'family' : 'Times New Roman', 'size'   : 16})\n",
    "    return ax\n",
    "plt.style.use('ggplot')\n",
    "ax = plot_trends(trends)\n",
    "plt.show()\n"
   ]
  }
 ],
 "metadata": {
  "kernelspec": {
   "display_name": "Python 3",
   "language": "python",
   "name": "python3"
  },
  "language_info": {
   "codemirror_mode": {
    "name": "ipython",
    "version": 3
   },
   "file_extension": ".py",
   "mimetype": "text/x-python",
   "name": "python",
   "nbconvert_exporter": "python",
   "pygments_lexer": "ipython3",
   "version": "3.8.3"
  }
 },
 "nbformat": 4,
 "nbformat_minor": 4
}
